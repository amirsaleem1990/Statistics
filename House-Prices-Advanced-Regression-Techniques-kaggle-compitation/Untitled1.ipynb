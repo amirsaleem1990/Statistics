{
 "cells": [
  {
   "cell_type": "code",
   "execution_count": 18,
   "metadata": {},
   "outputs": [],
   "source": [
    "library(purrr)\n",
    "library(dplyr)\n",
    "library(corrplot)\n",
    "library(hablar)\n",
    "library(corrplot)\n",
    "library(RColorBrewer)\n",
    "library(MASS)\n",
    "library(stats)\n",
    "library(tidyr)"
   ]
  },
  {
   "cell_type": "code",
   "execution_count": 19,
   "metadata": {},
   "outputs": [],
   "source": [
    "train = read.csv(\"train.csv\")\n",
    "train['train_or_test'] = 'train'\n",
    "test = read.csv(\"test.csv\")\n",
    "test['train_or_test'] = 'test'"
   ]
  },
  {
   "cell_type": "code",
   "execution_count": 22,
   "metadata": {},
   "outputs": [
    {
     "ename": "ERROR",
     "evalue": "Error in `[.data.frame`(train, \"SalePrice\"): undefined columns selected\n",
     "output_type": "error",
     "traceback": [
      "Error in `[.data.frame`(train, \"SalePrice\"): undefined columns selected\nTraceback:\n",
      "1. train[\"SalePrice\"]",
      "2. `[.data.frame`(train, \"SalePrice\")",
      "3. stop(\"undefined columns selected\")"
     ]
    }
   ],
   "source": [
    "train_target <- train$SalePrice\n",
    "train <- train[names(train) != 'SalePrice']\n",
    "al <- rbind(train, test)"
   ]
  },
  {
   "cell_type": "code",
   "execution_count": 21,
   "metadata": {},
   "outputs": [
    {
     "data": {
      "text/html": [
       "<ol class=list-inline>\n",
       "\t<li>208500</li>\n",
       "\t<li>181500</li>\n",
       "\t<li>223500</li>\n",
       "\t<li>140000</li>\n",
       "\t<li>250000</li>\n",
       "\t<li>143000</li>\n",
       "</ol>\n"
      ],
      "text/latex": [
       "\\begin{enumerate*}\n",
       "\\item 208500\n",
       "\\item 181500\n",
       "\\item 223500\n",
       "\\item 140000\n",
       "\\item 250000\n",
       "\\item 143000\n",
       "\\end{enumerate*}\n"
      ],
      "text/markdown": [
       "1. 208500\n",
       "2. 181500\n",
       "3. 223500\n",
       "4. 140000\n",
       "5. 250000\n",
       "6. 143000\n",
       "\n",
       "\n"
      ],
      "text/plain": [
       "[1] 208500 181500 223500 140000 250000 143000"
      ]
     },
     "metadata": {},
     "output_type": "display_data"
    }
   ],
   "source": [
    "head(train_target)"
   ]
  },
  {
   "cell_type": "code",
   "execution_count": 4,
   "metadata": {
    "scrolled": false
   },
   "outputs": [],
   "source": [
    "desc <- function (variable){\n",
    "    if (is.numeric(al[[variable]])){\n",
    "            hist(al[[variable]], xlab = \"\", main = paste(\"Histogram of \", toupper(variable)))\n",
    "    }\n",
    "    \n",
    "    else if (is.character(al[[variable]]) | is.factor(al[[variable]])){\n",
    "            barplot(prop.table(table(al[[variable]])), main = paste(\"Barplot of \", toupper(variable)))    \n",
    "        }\n",
    "    }"
   ]
  },
  {
   "cell_type": "code",
   "execution_count": 5,
   "metadata": {},
   "outputs": [
    {
     "data": {
      "text/html": [
       "<table>\n",
       "<thead><tr><th scope=col>feature</th><th scope=col>num_nulls</th><th scope=col>Na_ratio</th></tr></thead>\n",
       "<tbody>\n",
       "\t<tr><td>PoolQC      </td><td>2909        </td><td>0.9966      </td></tr>\n",
       "\t<tr><td>MiscFeature </td><td>2814        </td><td>0.9640      </td></tr>\n",
       "\t<tr><td>Alley       </td><td>2721        </td><td>0.9322      </td></tr>\n",
       "\t<tr><td>Fence       </td><td>2348        </td><td>0.8044      </td></tr>\n",
       "\t<tr><td>FireplaceQu </td><td>1420        </td><td>0.4865      </td></tr>\n",
       "\t<tr><td>LotFrontage </td><td> 486        </td><td>0.1665      </td></tr>\n",
       "\t<tr><td>GarageYrBlt </td><td> 159        </td><td>0.0545      </td></tr>\n",
       "\t<tr><td>GarageFinish</td><td> 159        </td><td>0.0545      </td></tr>\n",
       "\t<tr><td>GarageQual  </td><td> 159        </td><td>0.0545      </td></tr>\n",
       "\t<tr><td>GarageCond  </td><td> 159        </td><td>0.0545      </td></tr>\n",
       "\t<tr><td>GarageType  </td><td> 157        </td><td>0.0538      </td></tr>\n",
       "\t<tr><td>BsmtCond    </td><td>  82        </td><td>0.0281      </td></tr>\n",
       "\t<tr><td>BsmtExposure</td><td>  82        </td><td>0.0281      </td></tr>\n",
       "\t<tr><td>BsmtQual    </td><td>  81        </td><td>0.0277      </td></tr>\n",
       "\t<tr><td>BsmtFinType2</td><td>  80        </td><td>0.0274      </td></tr>\n",
       "\t<tr><td>BsmtFinType1</td><td>  79        </td><td>0.0271      </td></tr>\n",
       "\t<tr><td>MasVnrType  </td><td>  24        </td><td>0.0082      </td></tr>\n",
       "\t<tr><td>MasVnrArea  </td><td>  23        </td><td>0.0079      </td></tr>\n",
       "\t<tr><td>MSZoning    </td><td>   4        </td><td>0.0014      </td></tr>\n",
       "\t<tr><td>Utilities   </td><td>   2        </td><td>0.0007      </td></tr>\n",
       "\t<tr><td>BsmtFullBath</td><td>   2        </td><td>0.0007      </td></tr>\n",
       "\t<tr><td>BsmtHalfBath</td><td>   2        </td><td>0.0007      </td></tr>\n",
       "\t<tr><td>Functional  </td><td>   2        </td><td>0.0007      </td></tr>\n",
       "\t<tr><td>Exterior1st </td><td>   1        </td><td>0.0003      </td></tr>\n",
       "\t<tr><td>Exterior2nd </td><td>   1        </td><td>0.0003      </td></tr>\n",
       "\t<tr><td>BsmtFinSF1  </td><td>   1        </td><td>0.0003      </td></tr>\n",
       "\t<tr><td>BsmtFinSF2  </td><td>   1        </td><td>0.0003      </td></tr>\n",
       "\t<tr><td>BsmtUnfSF   </td><td>   1        </td><td>0.0003      </td></tr>\n",
       "\t<tr><td>TotalBsmtSF </td><td>   1        </td><td>0.0003      </td></tr>\n",
       "\t<tr><td>Electrical  </td><td>   1        </td><td>0.0003      </td></tr>\n",
       "\t<tr><td>KitchenQual </td><td>   1        </td><td>0.0003      </td></tr>\n",
       "\t<tr><td>GarageCars  </td><td>   1        </td><td>0.0003      </td></tr>\n",
       "\t<tr><td>GarageArea  </td><td>   1        </td><td>0.0003      </td></tr>\n",
       "\t<tr><td>SaleType    </td><td>   1        </td><td>0.0003      </td></tr>\n",
       "</tbody>\n",
       "</table>\n"
      ],
      "text/latex": [
       "\\begin{tabular}{r|lll}\n",
       " feature & num\\_nulls & Na\\_ratio\\\\\n",
       "\\hline\n",
       "\t PoolQC       & 2909         & 0.9966      \\\\\n",
       "\t MiscFeature  & 2814         & 0.9640      \\\\\n",
       "\t Alley        & 2721         & 0.9322      \\\\\n",
       "\t Fence        & 2348         & 0.8044      \\\\\n",
       "\t FireplaceQu  & 1420         & 0.4865      \\\\\n",
       "\t LotFrontage  &  486         & 0.1665      \\\\\n",
       "\t GarageYrBlt  &  159         & 0.0545      \\\\\n",
       "\t GarageFinish &  159         & 0.0545      \\\\\n",
       "\t GarageQual   &  159         & 0.0545      \\\\\n",
       "\t GarageCond   &  159         & 0.0545      \\\\\n",
       "\t GarageType   &  157         & 0.0538      \\\\\n",
       "\t BsmtCond     &   82         & 0.0281      \\\\\n",
       "\t BsmtExposure &   82         & 0.0281      \\\\\n",
       "\t BsmtQual     &   81         & 0.0277      \\\\\n",
       "\t BsmtFinType2 &   80         & 0.0274      \\\\\n",
       "\t BsmtFinType1 &   79         & 0.0271      \\\\\n",
       "\t MasVnrType   &   24         & 0.0082      \\\\\n",
       "\t MasVnrArea   &   23         & 0.0079      \\\\\n",
       "\t MSZoning     &    4         & 0.0014      \\\\\n",
       "\t Utilities    &    2         & 0.0007      \\\\\n",
       "\t BsmtFullBath &    2         & 0.0007      \\\\\n",
       "\t BsmtHalfBath &    2         & 0.0007      \\\\\n",
       "\t Functional   &    2         & 0.0007      \\\\\n",
       "\t Exterior1st  &    1         & 0.0003      \\\\\n",
       "\t Exterior2nd  &    1         & 0.0003      \\\\\n",
       "\t BsmtFinSF1   &    1         & 0.0003      \\\\\n",
       "\t BsmtFinSF2   &    1         & 0.0003      \\\\\n",
       "\t BsmtUnfSF    &    1         & 0.0003      \\\\\n",
       "\t TotalBsmtSF  &    1         & 0.0003      \\\\\n",
       "\t Electrical   &    1         & 0.0003      \\\\\n",
       "\t KitchenQual  &    1         & 0.0003      \\\\\n",
       "\t GarageCars   &    1         & 0.0003      \\\\\n",
       "\t GarageArea   &    1         & 0.0003      \\\\\n",
       "\t SaleType     &    1         & 0.0003      \\\\\n",
       "\\end{tabular}\n"
      ],
      "text/markdown": [
       "\n",
       "| feature | num_nulls | Na_ratio |\n",
       "|---|---|---|\n",
       "| PoolQC       | 2909         | 0.9966       |\n",
       "| MiscFeature  | 2814         | 0.9640       |\n",
       "| Alley        | 2721         | 0.9322       |\n",
       "| Fence        | 2348         | 0.8044       |\n",
       "| FireplaceQu  | 1420         | 0.4865       |\n",
       "| LotFrontage  |  486         | 0.1665       |\n",
       "| GarageYrBlt  |  159         | 0.0545       |\n",
       "| GarageFinish |  159         | 0.0545       |\n",
       "| GarageQual   |  159         | 0.0545       |\n",
       "| GarageCond   |  159         | 0.0545       |\n",
       "| GarageType   |  157         | 0.0538       |\n",
       "| BsmtCond     |   82         | 0.0281       |\n",
       "| BsmtExposure |   82         | 0.0281       |\n",
       "| BsmtQual     |   81         | 0.0277       |\n",
       "| BsmtFinType2 |   80         | 0.0274       |\n",
       "| BsmtFinType1 |   79         | 0.0271       |\n",
       "| MasVnrType   |   24         | 0.0082       |\n",
       "| MasVnrArea   |   23         | 0.0079       |\n",
       "| MSZoning     |    4         | 0.0014       |\n",
       "| Utilities    |    2         | 0.0007       |\n",
       "| BsmtFullBath |    2         | 0.0007       |\n",
       "| BsmtHalfBath |    2         | 0.0007       |\n",
       "| Functional   |    2         | 0.0007       |\n",
       "| Exterior1st  |    1         | 0.0003       |\n",
       "| Exterior2nd  |    1         | 0.0003       |\n",
       "| BsmtFinSF1   |    1         | 0.0003       |\n",
       "| BsmtFinSF2   |    1         | 0.0003       |\n",
       "| BsmtUnfSF    |    1         | 0.0003       |\n",
       "| TotalBsmtSF  |    1         | 0.0003       |\n",
       "| Electrical   |    1         | 0.0003       |\n",
       "| KitchenQual  |    1         | 0.0003       |\n",
       "| GarageCars   |    1         | 0.0003       |\n",
       "| GarageArea   |    1         | 0.0003       |\n",
       "| SaleType     |    1         | 0.0003       |\n",
       "\n"
      ],
      "text/plain": [
       "   feature      num_nulls Na_ratio\n",
       "1  PoolQC       2909      0.9966  \n",
       "2  MiscFeature  2814      0.9640  \n",
       "3  Alley        2721      0.9322  \n",
       "4  Fence        2348      0.8044  \n",
       "5  FireplaceQu  1420      0.4865  \n",
       "6  LotFrontage   486      0.1665  \n",
       "7  GarageYrBlt   159      0.0545  \n",
       "8  GarageFinish  159      0.0545  \n",
       "9  GarageQual    159      0.0545  \n",
       "10 GarageCond    159      0.0545  \n",
       "11 GarageType    157      0.0538  \n",
       "12 BsmtCond       82      0.0281  \n",
       "13 BsmtExposure   82      0.0281  \n",
       "14 BsmtQual       81      0.0277  \n",
       "15 BsmtFinType2   80      0.0274  \n",
       "16 BsmtFinType1   79      0.0271  \n",
       "17 MasVnrType     24      0.0082  \n",
       "18 MasVnrArea     23      0.0079  \n",
       "19 MSZoning        4      0.0014  \n",
       "20 Utilities       2      0.0007  \n",
       "21 BsmtFullBath    2      0.0007  \n",
       "22 BsmtHalfBath    2      0.0007  \n",
       "23 Functional      2      0.0007  \n",
       "24 Exterior1st     1      0.0003  \n",
       "25 Exterior2nd     1      0.0003  \n",
       "26 BsmtFinSF1      1      0.0003  \n",
       "27 BsmtFinSF2      1      0.0003  \n",
       "28 BsmtUnfSF       1      0.0003  \n",
       "29 TotalBsmtSF     1      0.0003  \n",
       "30 Electrical      1      0.0003  \n",
       "31 KitchenQual     1      0.0003  \n",
       "32 GarageCars      1      0.0003  \n",
       "33 GarageArea      1      0.0003  \n",
       "34 SaleType        1      0.0003  "
      ]
     },
     "metadata": {},
     "output_type": "display_data"
    }
   ],
   "source": [
    "# data.frame(colSums(is.na(al)))\n",
    "NAs <- al %>%\n",
    "    map_df(function(x) sum(is.na(x))) %>%\n",
    "    gather(feature, num_nulls)  %>% \n",
    "    mutate(Na_ratio = round(num_nulls / nrow(al), 4))\n",
    "NAs <- NAs[NAs$num_nulls != 0,]          \n",
    "(NAs <- NAs[order(NAs$num_nulls, decreasing = T), ])"
   ]
  },
  {
   "cell_type": "code",
   "execution_count": 6,
   "metadata": {},
   "outputs": [],
   "source": [
    "# in variables desription file, we see that some Na has meaning, so we replace Na's by that value\n",
    "al$Alley <- ifelse(is.na(al$Alley), \"No alley access\", al$Alley)\n",
    "al$BsmtQual <- ifelse(is.na(al$BsmtQual), \"No Basement\", al$BsmtQual)\n",
    "al$BsmtQual <- ifelse(is.na(al$BsmtQual), \"No Basement\", al$BsmtQual)\n",
    "al$BsmtCond <- ifelse(is.na(al$BsmtCond), \"No Basement\", al$BsmtCond)\n",
    "al$BsmtExposure <- ifelse(is.na(al$BsmtExposure), \"No Basement\", al$BsmtExposure)\n",
    "al$BsmtFinType1 <- ifelse(is.na(al$BsmtFinType1), \"No Basement\", al$BsmtFinType1)\n",
    "al$BsmtFinType2 <- ifelse(is.na(al$BsmtFinType2), \"No Basement\", al$BsmtFinType2)\n",
    "al$FireplaceQu <- ifelse(is.na(al$FireplaceQu), \"No Fireplace\", al$FireplaceQu)\n",
    "al$GarageType <- ifelse(is.na(al$GarageType), \"No Garage\", al$GarageType)\n",
    "al$GarageQual <- ifelse(is.na(al$GarageQual), \"No Garage\", al$GarageQual)\n",
    "al$GarageFinish <- ifelse(is.na(al$GarageFinish), \"No Garage\", al$GarageFinish)\n",
    "al$GarageCond <- ifelse(is.na(al$GarageCond), \"No Garage\", al$GarageCond)\n",
    "al$PoolQC <- ifelse(is.na(al$PoolQC), \"No Pool\", al$PoolQC)\n",
    "al$Fence <- ifelse(is.na(al$Fence), \"No Fence\", al$Fence)\n",
    "al$MiscFeature <- ifelse(is.na(al$MiscFeature), \"None\", al$MiscFeature)"
   ]
  },
  {
   "cell_type": "code",
   "execution_count": 7,
   "metadata": {},
   "outputs": [
    {
     "data": {
      "text/html": [
       "<table>\n",
       "<thead><tr><th scope=col>feature</th><th scope=col>num_nulls</th><th scope=col>Na_ratio</th></tr></thead>\n",
       "<tbody>\n",
       "\t<tr><td>LotFrontage </td><td>486         </td><td>0.1665      </td></tr>\n",
       "\t<tr><td>GarageYrBlt </td><td>159         </td><td>0.0545      </td></tr>\n",
       "\t<tr><td>MasVnrType  </td><td> 24         </td><td>0.0082      </td></tr>\n",
       "\t<tr><td>MasVnrArea  </td><td> 23         </td><td>0.0079      </td></tr>\n",
       "\t<tr><td>MSZoning    </td><td>  4         </td><td>0.0014      </td></tr>\n",
       "\t<tr><td>Utilities   </td><td>  2         </td><td>0.0007      </td></tr>\n",
       "\t<tr><td>BsmtFullBath</td><td>  2         </td><td>0.0007      </td></tr>\n",
       "\t<tr><td>BsmtHalfBath</td><td>  2         </td><td>0.0007      </td></tr>\n",
       "\t<tr><td>Functional  </td><td>  2         </td><td>0.0007      </td></tr>\n",
       "\t<tr><td>Exterior1st </td><td>  1         </td><td>0.0003      </td></tr>\n",
       "\t<tr><td>Exterior2nd </td><td>  1         </td><td>0.0003      </td></tr>\n",
       "\t<tr><td>BsmtFinSF1  </td><td>  1         </td><td>0.0003      </td></tr>\n",
       "\t<tr><td>BsmtFinSF2  </td><td>  1         </td><td>0.0003      </td></tr>\n",
       "\t<tr><td>BsmtUnfSF   </td><td>  1         </td><td>0.0003      </td></tr>\n",
       "\t<tr><td>TotalBsmtSF </td><td>  1         </td><td>0.0003      </td></tr>\n",
       "\t<tr><td>Electrical  </td><td>  1         </td><td>0.0003      </td></tr>\n",
       "\t<tr><td>KitchenQual </td><td>  1         </td><td>0.0003      </td></tr>\n",
       "\t<tr><td>GarageCars  </td><td>  1         </td><td>0.0003      </td></tr>\n",
       "\t<tr><td>GarageArea  </td><td>  1         </td><td>0.0003      </td></tr>\n",
       "\t<tr><td>SaleType    </td><td>  1         </td><td>0.0003      </td></tr>\n",
       "</tbody>\n",
       "</table>\n"
      ],
      "text/latex": [
       "\\begin{tabular}{r|lll}\n",
       " feature & num\\_nulls & Na\\_ratio\\\\\n",
       "\\hline\n",
       "\t LotFrontage  & 486          & 0.1665      \\\\\n",
       "\t GarageYrBlt  & 159          & 0.0545      \\\\\n",
       "\t MasVnrType   &  24          & 0.0082      \\\\\n",
       "\t MasVnrArea   &  23          & 0.0079      \\\\\n",
       "\t MSZoning     &   4          & 0.0014      \\\\\n",
       "\t Utilities    &   2          & 0.0007      \\\\\n",
       "\t BsmtFullBath &   2          & 0.0007      \\\\\n",
       "\t BsmtHalfBath &   2          & 0.0007      \\\\\n",
       "\t Functional   &   2          & 0.0007      \\\\\n",
       "\t Exterior1st  &   1          & 0.0003      \\\\\n",
       "\t Exterior2nd  &   1          & 0.0003      \\\\\n",
       "\t BsmtFinSF1   &   1          & 0.0003      \\\\\n",
       "\t BsmtFinSF2   &   1          & 0.0003      \\\\\n",
       "\t BsmtUnfSF    &   1          & 0.0003      \\\\\n",
       "\t TotalBsmtSF  &   1          & 0.0003      \\\\\n",
       "\t Electrical   &   1          & 0.0003      \\\\\n",
       "\t KitchenQual  &   1          & 0.0003      \\\\\n",
       "\t GarageCars   &   1          & 0.0003      \\\\\n",
       "\t GarageArea   &   1          & 0.0003      \\\\\n",
       "\t SaleType     &   1          & 0.0003      \\\\\n",
       "\\end{tabular}\n"
      ],
      "text/markdown": [
       "\n",
       "| feature | num_nulls | Na_ratio |\n",
       "|---|---|---|\n",
       "| LotFrontage  | 486          | 0.1665       |\n",
       "| GarageYrBlt  | 159          | 0.0545       |\n",
       "| MasVnrType   |  24          | 0.0082       |\n",
       "| MasVnrArea   |  23          | 0.0079       |\n",
       "| MSZoning     |   4          | 0.0014       |\n",
       "| Utilities    |   2          | 0.0007       |\n",
       "| BsmtFullBath |   2          | 0.0007       |\n",
       "| BsmtHalfBath |   2          | 0.0007       |\n",
       "| Functional   |   2          | 0.0007       |\n",
       "| Exterior1st  |   1          | 0.0003       |\n",
       "| Exterior2nd  |   1          | 0.0003       |\n",
       "| BsmtFinSF1   |   1          | 0.0003       |\n",
       "| BsmtFinSF2   |   1          | 0.0003       |\n",
       "| BsmtUnfSF    |   1          | 0.0003       |\n",
       "| TotalBsmtSF  |   1          | 0.0003       |\n",
       "| Electrical   |   1          | 0.0003       |\n",
       "| KitchenQual  |   1          | 0.0003       |\n",
       "| GarageCars   |   1          | 0.0003       |\n",
       "| GarageArea   |   1          | 0.0003       |\n",
       "| SaleType     |   1          | 0.0003       |\n",
       "\n"
      ],
      "text/plain": [
       "   feature      num_nulls Na_ratio\n",
       "1  LotFrontage  486       0.1665  \n",
       "2  GarageYrBlt  159       0.0545  \n",
       "3  MasVnrType    24       0.0082  \n",
       "4  MasVnrArea    23       0.0079  \n",
       "5  MSZoning       4       0.0014  \n",
       "6  Utilities      2       0.0007  \n",
       "7  BsmtFullBath   2       0.0007  \n",
       "8  BsmtHalfBath   2       0.0007  \n",
       "9  Functional     2       0.0007  \n",
       "10 Exterior1st    1       0.0003  \n",
       "11 Exterior2nd    1       0.0003  \n",
       "12 BsmtFinSF1     1       0.0003  \n",
       "13 BsmtFinSF2     1       0.0003  \n",
       "14 BsmtUnfSF      1       0.0003  \n",
       "15 TotalBsmtSF    1       0.0003  \n",
       "16 Electrical     1       0.0003  \n",
       "17 KitchenQual    1       0.0003  \n",
       "18 GarageCars     1       0.0003  \n",
       "19 GarageArea     1       0.0003  \n",
       "20 SaleType       1       0.0003  "
      ]
     },
     "metadata": {},
     "output_type": "display_data"
    }
   ],
   "source": [
    "# Now we check again NA's\n",
    "NAs <- al %>%\n",
    "    map_df(function(x) sum(is.na(x))) %>%\n",
    "    gather(feature, num_nulls)  %>% \n",
    "    mutate(Na_ratio = round(num_nulls / nrow(al), 4))\n",
    "NAs <- NAs[NAs$num_nulls != 0,]          \n",
    "(NAs <- NAs[order(NAs$num_nulls, decreasing = T), ])"
   ]
  },
  {
   "cell_type": "code",
   "execution_count": 8,
   "metadata": {},
   "outputs": [],
   "source": [
    "# Let us fill NA's, in nemarice variables with mean, and in catagorical variables with most frequent\n",
    "for (variable in NAs$feature){\n",
    "    if (is.numeric(al[[variable]])){\n",
    "        al[variable][is.na(al[variable])] <- mean(al[[variable]], na.rm = TRUE)\n",
    "    }\n",
    "    else if (is.character(al[[variable]]) | is.factor(al[[variable]])){\n",
    "        al[is.na(al[variable]),][variable] <- names(which.max(table(al[variable])))\n",
    "    }\n",
    "    }\n",
    "    "
   ]
  },
  {
   "cell_type": "code",
   "execution_count": 9,
   "metadata": {},
   "outputs": [
    {
     "data": {
      "text/html": [
       "0"
      ],
      "text/latex": [
       "0"
      ],
      "text/markdown": [
       "0"
      ],
      "text/plain": [
       "[1] 0"
      ]
     },
     "metadata": {},
     "output_type": "display_data"
    }
   ],
   "source": [
    "# Now finally we check NA's\n",
    "sum(is.na(al))"
   ]
  },
  {
   "cell_type": "code",
   "execution_count": 10,
   "metadata": {},
   "outputs": [],
   "source": [
    "# # Now we visulize each \n",
    "# for (i in seq(1,ncol(al)-1,2)){\n",
    "#     par(mfrow=c(2, 2))\n",
    "#     desc(names(al[i]))\n",
    "#     desc(names(al[i+1]))\n",
    "# }"
   ]
  },
  {
   "cell_type": "code",
   "execution_count": 11,
   "metadata": {},
   "outputs": [
    {
     "data": {
      "text/html": [
       "<table>\n",
       "<thead><tr><th></th><th scope=col>class</th></tr></thead>\n",
       "<tbody>\n",
       "\t<tr><th scope=row>Id</th><td>integer  </td></tr>\n",
       "\t<tr><th scope=row>MSSubClass</th><td>integer  </td></tr>\n",
       "\t<tr><th scope=row>MSZoning</th><td>factor   </td></tr>\n",
       "\t<tr><th scope=row>LotFrontage</th><td>numeric  </td></tr>\n",
       "\t<tr><th scope=row>LotArea</th><td>integer  </td></tr>\n",
       "\t<tr><th scope=row>Street</th><td>factor   </td></tr>\n",
       "\t<tr><th scope=row>Alley</th><td>character</td></tr>\n",
       "\t<tr><th scope=row>LotShape</th><td>factor   </td></tr>\n",
       "\t<tr><th scope=row>LandContour</th><td>factor   </td></tr>\n",
       "\t<tr><th scope=row>Utilities</th><td>factor   </td></tr>\n",
       "\t<tr><th scope=row>LotConfig</th><td>factor   </td></tr>\n",
       "\t<tr><th scope=row>LandSlope</th><td>factor   </td></tr>\n",
       "\t<tr><th scope=row>Neighborhood</th><td>factor   </td></tr>\n",
       "\t<tr><th scope=row>Condition1</th><td>factor   </td></tr>\n",
       "\t<tr><th scope=row>Condition2</th><td>factor   </td></tr>\n",
       "\t<tr><th scope=row>BldgType</th><td>factor   </td></tr>\n",
       "\t<tr><th scope=row>HouseStyle</th><td>factor   </td></tr>\n",
       "\t<tr><th scope=row>OverallQual</th><td>integer  </td></tr>\n",
       "\t<tr><th scope=row>OverallCond</th><td>integer  </td></tr>\n",
       "\t<tr><th scope=row>YearBuilt</th><td>integer  </td></tr>\n",
       "\t<tr><th scope=row>YearRemodAdd</th><td>integer  </td></tr>\n",
       "\t<tr><th scope=row>RoofStyle</th><td>factor   </td></tr>\n",
       "\t<tr><th scope=row>RoofMatl</th><td>factor   </td></tr>\n",
       "\t<tr><th scope=row>Exterior1st</th><td>factor   </td></tr>\n",
       "\t<tr><th scope=row>Exterior2nd</th><td>factor   </td></tr>\n",
       "\t<tr><th scope=row>MasVnrType</th><td>factor   </td></tr>\n",
       "\t<tr><th scope=row>MasVnrArea</th><td>numeric  </td></tr>\n",
       "\t<tr><th scope=row>ExterQual</th><td>factor   </td></tr>\n",
       "\t<tr><th scope=row>ExterCond</th><td>factor   </td></tr>\n",
       "\t<tr><th scope=row>Foundation</th><td>factor   </td></tr>\n",
       "\t<tr><th scope=row>⋮</th><td>⋮</td></tr>\n",
       "\t<tr><th scope=row>BedroomAbvGr</th><td>integer  </td></tr>\n",
       "\t<tr><th scope=row>KitchenAbvGr</th><td>integer  </td></tr>\n",
       "\t<tr><th scope=row>KitchenQual</th><td>factor   </td></tr>\n",
       "\t<tr><th scope=row>TotRmsAbvGrd</th><td>integer  </td></tr>\n",
       "\t<tr><th scope=row>Functional</th><td>factor   </td></tr>\n",
       "\t<tr><th scope=row>Fireplaces</th><td>integer  </td></tr>\n",
       "\t<tr><th scope=row>FireplaceQu</th><td>character</td></tr>\n",
       "\t<tr><th scope=row>GarageType</th><td>character</td></tr>\n",
       "\t<tr><th scope=row>GarageYrBlt</th><td>numeric  </td></tr>\n",
       "\t<tr><th scope=row>GarageFinish</th><td>character</td></tr>\n",
       "\t<tr><th scope=row>GarageCars</th><td>numeric  </td></tr>\n",
       "\t<tr><th scope=row>GarageArea</th><td>numeric  </td></tr>\n",
       "\t<tr><th scope=row>GarageQual</th><td>character</td></tr>\n",
       "\t<tr><th scope=row>GarageCond</th><td>character</td></tr>\n",
       "\t<tr><th scope=row>PavedDrive</th><td>factor   </td></tr>\n",
       "\t<tr><th scope=row>WoodDeckSF</th><td>integer  </td></tr>\n",
       "\t<tr><th scope=row>OpenPorchSF</th><td>integer  </td></tr>\n",
       "\t<tr><th scope=row>EnclosedPorch</th><td>integer  </td></tr>\n",
       "\t<tr><th scope=row>X3SsnPorch</th><td>integer  </td></tr>\n",
       "\t<tr><th scope=row>ScreenPorch</th><td>integer  </td></tr>\n",
       "\t<tr><th scope=row>PoolArea</th><td>integer  </td></tr>\n",
       "\t<tr><th scope=row>PoolQC</th><td>character</td></tr>\n",
       "\t<tr><th scope=row>Fence</th><td>character</td></tr>\n",
       "\t<tr><th scope=row>MiscFeature</th><td>character</td></tr>\n",
       "\t<tr><th scope=row>MiscVal</th><td>integer  </td></tr>\n",
       "\t<tr><th scope=row>MoSold</th><td>integer  </td></tr>\n",
       "\t<tr><th scope=row>YrSold</th><td>integer  </td></tr>\n",
       "\t<tr><th scope=row>SaleType</th><td>factor   </td></tr>\n",
       "\t<tr><th scope=row>SaleCondition</th><td>factor   </td></tr>\n",
       "\t<tr><th scope=row>train_or_test</th><td>character</td></tr>\n",
       "</tbody>\n",
       "</table>\n"
      ],
      "text/latex": [
       "\\begin{tabular}{r|l}\n",
       "  & class\\\\\n",
       "\\hline\n",
       "\tId & integer  \\\\\n",
       "\tMSSubClass & integer  \\\\\n",
       "\tMSZoning & factor   \\\\\n",
       "\tLotFrontage & numeric  \\\\\n",
       "\tLotArea & integer  \\\\\n",
       "\tStreet & factor   \\\\\n",
       "\tAlley & character\\\\\n",
       "\tLotShape & factor   \\\\\n",
       "\tLandContour & factor   \\\\\n",
       "\tUtilities & factor   \\\\\n",
       "\tLotConfig & factor   \\\\\n",
       "\tLandSlope & factor   \\\\\n",
       "\tNeighborhood & factor   \\\\\n",
       "\tCondition1 & factor   \\\\\n",
       "\tCondition2 & factor   \\\\\n",
       "\tBldgType & factor   \\\\\n",
       "\tHouseStyle & factor   \\\\\n",
       "\tOverallQual & integer  \\\\\n",
       "\tOverallCond & integer  \\\\\n",
       "\tYearBuilt & integer  \\\\\n",
       "\tYearRemodAdd & integer  \\\\\n",
       "\tRoofStyle & factor   \\\\\n",
       "\tRoofMatl & factor   \\\\\n",
       "\tExterior1st & factor   \\\\\n",
       "\tExterior2nd & factor   \\\\\n",
       "\tMasVnrType & factor   \\\\\n",
       "\tMasVnrArea & numeric  \\\\\n",
       "\tExterQual & factor   \\\\\n",
       "\tExterCond & factor   \\\\\n",
       "\tFoundation & factor   \\\\\n",
       "\t⋮ & ⋮\\\\\n",
       "\tBedroomAbvGr & integer  \\\\\n",
       "\tKitchenAbvGr & integer  \\\\\n",
       "\tKitchenQual & factor   \\\\\n",
       "\tTotRmsAbvGrd & integer  \\\\\n",
       "\tFunctional & factor   \\\\\n",
       "\tFireplaces & integer  \\\\\n",
       "\tFireplaceQu & character\\\\\n",
       "\tGarageType & character\\\\\n",
       "\tGarageYrBlt & numeric  \\\\\n",
       "\tGarageFinish & character\\\\\n",
       "\tGarageCars & numeric  \\\\\n",
       "\tGarageArea & numeric  \\\\\n",
       "\tGarageQual & character\\\\\n",
       "\tGarageCond & character\\\\\n",
       "\tPavedDrive & factor   \\\\\n",
       "\tWoodDeckSF & integer  \\\\\n",
       "\tOpenPorchSF & integer  \\\\\n",
       "\tEnclosedPorch & integer  \\\\\n",
       "\tX3SsnPorch & integer  \\\\\n",
       "\tScreenPorch & integer  \\\\\n",
       "\tPoolArea & integer  \\\\\n",
       "\tPoolQC & character\\\\\n",
       "\tFence & character\\\\\n",
       "\tMiscFeature & character\\\\\n",
       "\tMiscVal & integer  \\\\\n",
       "\tMoSold & integer  \\\\\n",
       "\tYrSold & integer  \\\\\n",
       "\tSaleType & factor   \\\\\n",
       "\tSaleCondition & factor   \\\\\n",
       "\ttrain\\_or\\_test & character\\\\\n",
       "\\end{tabular}\n"
      ],
      "text/markdown": [
       "\n",
       "| <!--/--> | class |\n",
       "|---|---|\n",
       "| Id | integer   |\n",
       "| MSSubClass | integer   |\n",
       "| MSZoning | factor    |\n",
       "| LotFrontage | numeric   |\n",
       "| LotArea | integer   |\n",
       "| Street | factor    |\n",
       "| Alley | character |\n",
       "| LotShape | factor    |\n",
       "| LandContour | factor    |\n",
       "| Utilities | factor    |\n",
       "| LotConfig | factor    |\n",
       "| LandSlope | factor    |\n",
       "| Neighborhood | factor    |\n",
       "| Condition1 | factor    |\n",
       "| Condition2 | factor    |\n",
       "| BldgType | factor    |\n",
       "| HouseStyle | factor    |\n",
       "| OverallQual | integer   |\n",
       "| OverallCond | integer   |\n",
       "| YearBuilt | integer   |\n",
       "| YearRemodAdd | integer   |\n",
       "| RoofStyle | factor    |\n",
       "| RoofMatl | factor    |\n",
       "| Exterior1st | factor    |\n",
       "| Exterior2nd | factor    |\n",
       "| MasVnrType | factor    |\n",
       "| MasVnrArea | numeric   |\n",
       "| ExterQual | factor    |\n",
       "| ExterCond | factor    |\n",
       "| Foundation | factor    |\n",
       "| ⋮ | ⋮ |\n",
       "| BedroomAbvGr | integer   |\n",
       "| KitchenAbvGr | integer   |\n",
       "| KitchenQual | factor    |\n",
       "| TotRmsAbvGrd | integer   |\n",
       "| Functional | factor    |\n",
       "| Fireplaces | integer   |\n",
       "| FireplaceQu | character |\n",
       "| GarageType | character |\n",
       "| GarageYrBlt | numeric   |\n",
       "| GarageFinish | character |\n",
       "| GarageCars | numeric   |\n",
       "| GarageArea | numeric   |\n",
       "| GarageQual | character |\n",
       "| GarageCond | character |\n",
       "| PavedDrive | factor    |\n",
       "| WoodDeckSF | integer   |\n",
       "| OpenPorchSF | integer   |\n",
       "| EnclosedPorch | integer   |\n",
       "| X3SsnPorch | integer   |\n",
       "| ScreenPorch | integer   |\n",
       "| PoolArea | integer   |\n",
       "| PoolQC | character |\n",
       "| Fence | character |\n",
       "| MiscFeature | character |\n",
       "| MiscVal | integer   |\n",
       "| MoSold | integer   |\n",
       "| YrSold | integer   |\n",
       "| SaleType | factor    |\n",
       "| SaleCondition | factor    |\n",
       "| train_or_test | character |\n",
       "\n"
      ],
      "text/plain": [
       "              class    \n",
       "Id            integer  \n",
       "MSSubClass    integer  \n",
       "MSZoning      factor   \n",
       "LotFrontage   numeric  \n",
       "LotArea       integer  \n",
       "Street        factor   \n",
       "Alley         character\n",
       "LotShape      factor   \n",
       "LandContour   factor   \n",
       "Utilities     factor   \n",
       "LotConfig     factor   \n",
       "LandSlope     factor   \n",
       "Neighborhood  factor   \n",
       "Condition1    factor   \n",
       "Condition2    factor   \n",
       "BldgType      factor   \n",
       "HouseStyle    factor   \n",
       "OverallQual   integer  \n",
       "OverallCond   integer  \n",
       "YearBuilt     integer  \n",
       "YearRemodAdd  integer  \n",
       "RoofStyle     factor   \n",
       "RoofMatl      factor   \n",
       "Exterior1st   factor   \n",
       "Exterior2nd   factor   \n",
       "MasVnrType    factor   \n",
       "MasVnrArea    numeric  \n",
       "ExterQual     factor   \n",
       "ExterCond     factor   \n",
       "Foundation    factor   \n",
       "⋮             ⋮        \n",
       "BedroomAbvGr  integer  \n",
       "KitchenAbvGr  integer  \n",
       "KitchenQual   factor   \n",
       "TotRmsAbvGrd  integer  \n",
       "Functional    factor   \n",
       "Fireplaces    integer  \n",
       "FireplaceQu   character\n",
       "GarageType    character\n",
       "GarageYrBlt   numeric  \n",
       "GarageFinish  character\n",
       "GarageCars    numeric  \n",
       "GarageArea    numeric  \n",
       "GarageQual    character\n",
       "GarageCond    character\n",
       "PavedDrive    factor   \n",
       "WoodDeckSF    integer  \n",
       "OpenPorchSF   integer  \n",
       "EnclosedPorch integer  \n",
       "X3SsnPorch    integer  \n",
       "ScreenPorch   integer  \n",
       "PoolArea      integer  \n",
       "PoolQC        character\n",
       "Fence         character\n",
       "MiscFeature   character\n",
       "MiscVal       integer  \n",
       "MoSold        integer  \n",
       "YrSold        integer  \n",
       "SaleType      factor   \n",
       "SaleCondition factor   \n",
       "train_or_test character"
      ]
     },
     "metadata": {},
     "output_type": "display_data"
    }
   ],
   "source": [
    "a <- data.frame(sapply(al, class))\n",
    "names(a) <- c(\"class\")\n",
    "a"
   ]
  },
  {
   "cell_type": "code",
   "execution_count": 12,
   "metadata": {
    "scrolled": true
   },
   "outputs": [
    {
     "data": {
      "text/html": [
       "<table>\n",
       "<thead><tr><th scope=col>class</th><th scope=col>n</th></tr></thead>\n",
       "<tbody>\n",
       "\t<tr><td>character</td><td>15       </td></tr>\n",
       "\t<tr><td>factor   </td><td>29       </td></tr>\n",
       "\t<tr><td>integer  </td><td>26       </td></tr>\n",
       "\t<tr><td>numeric  </td><td>11       </td></tr>\n",
       "</tbody>\n",
       "</table>\n"
      ],
      "text/latex": [
       "\\begin{tabular}{r|ll}\n",
       " class & n\\\\\n",
       "\\hline\n",
       "\t character & 15       \\\\\n",
       "\t factor    & 29       \\\\\n",
       "\t integer   & 26       \\\\\n",
       "\t numeric   & 11       \\\\\n",
       "\\end{tabular}\n"
      ],
      "text/markdown": [
       "\n",
       "| class | n |\n",
       "|---|---|\n",
       "| character | 15        |\n",
       "| factor    | 29        |\n",
       "| integer   | 26        |\n",
       "| numeric   | 11        |\n",
       "\n"
      ],
      "text/plain": [
       "  class     n \n",
       "1 character 15\n",
       "2 factor    29\n",
       "3 integer   26\n",
       "4 numeric   11"
      ]
     },
     "metadata": {},
     "output_type": "display_data"
    }
   ],
   "source": [
    "a %>%\n",
    "    group_by(class) %>% \n",
    "    tally()"
   ]
  },
  {
   "cell_type": "code",
   "execution_count": 17,
   "metadata": {},
   "outputs": [
    {
     "data": {
      "text/plain": [
       "NULL"
      ]
     },
     "metadata": {},
     "output_type": "display_data"
    }
   ],
   "source": [
    "names(train_target)"
   ]
  },
  {
   "cell_type": "code",
   "execution_count": 16,
   "metadata": {},
   "outputs": [
    {
     "ename": "ERROR",
     "evalue": "Error in fix.by(by.y, y): 'by' must specify a uniquely valid column\n",
     "output_type": "error",
     "traceback": [
      "Error in fix.by(by.y, y): 'by' must specify a uniquely valid column\nTraceback:\n",
      "1. merge(data, train_target, by = \"Id\")",
      "2. merge.data.frame(data, train_target, by = \"Id\")",
      "3. fix.by(by.y, y)",
      "4. stop(ngettext(sum(bad), \"'by' must specify a uniquely valid column\", \n .     \"'by' must specify uniquely valid columns\"), domain = NA)"
     ]
    }
   ],
   "source": [
    "data <- al[al$train_or_test == 'train',]\n",
    "data <- data[ , -which(names(data) == 'train_or_test')]\n",
    "data <- merge(data, train_target, by = 'Id')\n",
    "# test <- al[al$train_or_test == 'test',]\n",
    "# test <- test[ , -which(names(test) == 'train_or_test')]\n",
    "# library(caTools)\n",
    "# sample <- sample.split(data$SalePrice, SplitRatio = 0.75) \n",
    "# train <- subset(data, sample == TRUE)\n",
    "# test <- subset(data, sample == FALSE)"
   ]
  },
  {
   "cell_type": "code",
   "execution_count": null,
   "metadata": {},
   "outputs": [],
   "source": [
    "corrplot(cor(train %>% keep(is.numeric)), type=\"upper\", order=\"hclust\",\n",
    "         col=brewer.pal(n=8, name=\"RdYlBu\"))"
   ]
  },
  {
   "cell_type": "code",
   "execution_count": null,
   "metadata": {},
   "outputs": [],
   "source": [
    "cex.before <- par(\"cex\")\n",
    "par(cex = 0.5)\n",
    "corrplot(cor(train %>% keep(is.numeric)), insig = \"blank\", method = \"color\",\n",
    "    addCoef.col=\"grey\", type='lower',\n",
    "    tl.cex = 1/par(\"cex\"), addCoefasPercent = TRUE)\n",
    "par(cex = cex.before)"
   ]
  },
  {
   "cell_type": "code",
   "execution_count": null,
   "metadata": {},
   "outputs": [],
   "source": [
    "# check if case to lower reduce number of unique values\n",
    "for (i in names(train %>% keep(is.factor))){\n",
    "    a = table(train[[i]])\n",
    "    b = table(tolower(train[[i]]))\n",
    "    if (!all(a==b)){\n",
    "        print(i)\n",
    "    }\n",
    "    \n",
    "}"
   ]
  },
  {
   "cell_type": "code",
   "execution_count": null,
   "metadata": {},
   "outputs": [],
   "source": [
    "lm1 <- lm(SalePrice ~ ., data=train)\n",
    "names(which.min(summary(lm1)$coefficients[,4]))"
   ]
  },
  {
   "cell_type": "code",
   "execution_count": null,
   "metadata": {},
   "outputs": [],
   "source": [
    "a = data.frame(summary(lm1)$coefficients)\n",
    "a[order(a$Pr...t..),]"
   ]
  },
  {
   "cell_type": "code",
   "execution_count": null,
   "metadata": {},
   "outputs": [],
   "source": [
    "# Automated variable selection\n",
    "fit <- lm(formula = SalePrice ~ ., data = train) \n",
    "automate_variable_selection <- stepAIC(fit, direction=\"both\", trace=0)"
   ]
  },
  {
   "cell_type": "code",
   "execution_count": null,
   "metadata": {},
   "outputs": [],
   "source": [
    "only_significat_vars <- names(automate_variable_selection$contrasts)"
   ]
  },
  {
   "cell_type": "code",
   "execution_count": null,
   "metadata": {},
   "outputs": [],
   "source": [
    "final_df <- train[only_significat_vars]\n",
    "dim(final_df)"
   ]
  },
  {
   "cell_type": "code",
   "execution_count": null,
   "metadata": {},
   "outputs": [],
   "source": [
    "lm3 <- lm(SalePrice ~ ., data= cbind(final_df, train[\"SalePrice\"]))\n",
    "summary(lm3)"
   ]
  },
  {
   "cell_type": "code",
   "execution_count": null,
   "metadata": {},
   "outputs": [],
   "source": [
    "pred <- predict(lm3, newdata = test)"
   ]
  },
  {
   "cell_type": "code",
   "execution_count": null,
   "metadata": {},
   "outputs": [],
   "source": [
    "average_inherit_error <- (mean(test$SalePrice)^2)\n",
    "MSE_LM <- sum((test$SalePrice - pred)^2)/nrow(test)"
   ]
  },
  {
   "cell_type": "code",
   "execution_count": null,
   "metadata": {},
   "outputs": [],
   "source": [
    "write.csv(cbind('Id'=test$Id, 'SalePrice'=pred), \"submission_Linear_regression.csv\", row.names=FALSE)"
   ]
  },
  {
   "cell_type": "code",
   "execution_count": null,
   "metadata": {},
   "outputs": [],
   "source": []
  },
  {
   "cell_type": "code",
   "execution_count": null,
   "metadata": {},
   "outputs": [],
   "source": []
  },
  {
   "cell_type": "code",
   "execution_count": null,
   "metadata": {},
   "outputs": [],
   "source": []
  },
  {
   "cell_type": "code",
   "execution_count": null,
   "metadata": {},
   "outputs": [],
   "source": []
  },
  {
   "cell_type": "code",
   "execution_count": null,
   "metadata": {},
   "outputs": [],
   "source": []
  },
  {
   "cell_type": "markdown",
   "metadata": {},
   "source": [
    "# <center><font color='red' size='10'>Random forest</font>"
   ]
  },
  {
   "cell_type": "code",
   "execution_count": null,
   "metadata": {},
   "outputs": [],
   "source": [
    "library(ranger)\n",
    "rf1 <- ranger( \n",
    "            formula   = SalePrice ~ .,  \n",
    "            data      = train, \n",
    "            num.trees = 1000,  \n",
    "            num.threads = 100,  \n",
    "            min.node.size = 2, \n",
    "            classification = F,\n",
    "            mtry = floor(sqrt(ncol(train)))) \n",
    "pred_rf1 <- predict(rf1, test)\n",
    "MSE_RF <- (sum(test$SalePrice - pred_rf1$predictions)^2)/nrow(test)\n",
    "print(paste(\"MSE_LM: \", MSE_LM/100000000))\n",
    "print(paste(\"MSE_RF: \", MSE_RF/100000000))"
   ]
  },
  {
   "cell_type": "code",
   "execution_count": null,
   "metadata": {},
   "outputs": [],
   "source": [
    "# as we see here, Liner regression have very low MSE compaired to MSE obtained from Random forest model"
   ]
  },
  {
   "cell_type": "code",
   "execution_count": null,
   "metadata": {},
   "outputs": [],
   "source": []
  },
  {
   "cell_type": "markdown",
   "metadata": {},
   "source": [
    "# <font color='red'>standrization numeric variables</font>"
   ]
  },
  {
   "cell_type": "code",
   "execution_count": null,
   "metadata": {},
   "outputs": [],
   "source": [
    "# standrization numeric variables\n",
    "scaled.dat <- scale(train[!names(train) == \"SalePrice\"] %>% keep(is.numeric))\n",
    "train[names(data.frame(scaled.dat))] = data.frame(scaled.dat)\n",
    "head(train)"
   ]
  },
  {
   "cell_type": "code",
   "execution_count": null,
   "metadata": {},
   "outputs": [],
   "source": [
    "# Automated variable selection\n",
    "# fit <- lm(formula = SalePrice ~ ., data = train) \n",
    "# automate_variable_selection <- stepAIC(fit, direction=\"both\", trace=0)\n",
    "only_significat_vars <- names(automate_variable_selection$contrasts)\n",
    "final_df <- train[only_significat_vars]\n",
    "# dim(final_df)\n",
    "lm3_standrised <- lm(SalePrice ~ ., data= cbind(final_df, train[\"SalePrice\"]))\n",
    "# summary(lm3)\n",
    "pred <- predict(lm3_standrised, newdata = test)\n",
    "average_inherit_error <- (mean(test$SalePrice)^2)\n",
    "(MSE_LM_standrised <- sum((test$SalePrice - pred)^2)/nrow(test))"
   ]
  },
  {
   "cell_type": "code",
   "execution_count": null,
   "metadata": {},
   "outputs": [],
   "source": [
    "library(ranger)\n",
    "rf1_standrised <- ranger( \n",
    "            formula   = SalePrice ~ .,  \n",
    "            data      = train, \n",
    "            num.trees = 1000,  \n",
    "            num.threads = 100,  \n",
    "            min.node.size = 2, \n",
    "            classification = F,\n",
    "            mtry = floor(sqrt(ncol(train)))) \n",
    "pred_rf1_standrised <- predict(rf1_standrised, test)\n",
    "MSE_RF_standrised <- (sum(test$SalePrice - pred_rf1_standrised$predictions)^2)/nrow(test)\n",
    "print(paste(\"MSE_LM_standrised: \", MSE_LM_standrised/100000000))\n",
    "print(paste(\"MSE_RF_standrised: \", MSE_RF_standrised/100000000))"
   ]
  },
  {
   "cell_type": "code",
   "execution_count": null,
   "metadata": {},
   "outputs": [],
   "source": [
    "head(cbind(scale(train[!names(train) == \"SalePrice\"] %>% keep(is.numeric)), train$SalePrice))"
   ]
  }
 ],
 "metadata": {
  "kernelspec": {
   "display_name": "R",
   "language": "R",
   "name": "ir"
  },
  "language_info": {
   "codemirror_mode": "r",
   "file_extension": ".r",
   "mimetype": "text/x-r-source",
   "name": "R",
   "pygments_lexer": "r",
   "version": "3.4.4"
  }
 },
 "nbformat": 4,
 "nbformat_minor": 2
}
